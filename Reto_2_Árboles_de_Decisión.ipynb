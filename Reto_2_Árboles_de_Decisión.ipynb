{
  "nbformat": 4,
  "nbformat_minor": 0,
  "metadata": {
    "colab": {
      "provenance": [],
      "authorship_tag": "ABX9TyPzC7FeRkGhV7gyrHHoDMsS",
      "include_colab_link": true
    },
    "kernelspec": {
      "name": "python3",
      "display_name": "Python 3"
    },
    "language_info": {
      "name": "python"
    }
  },
  "cells": [
    {
      "cell_type": "markdown",
      "metadata": {
        "id": "view-in-github",
        "colab_type": "text"
      },
      "source": [
        "<a href=\"https://colab.research.google.com/github/jeperniag/BussinessIntelligence/blob/main/Reto_2_%C3%81rboles_de_Decisi%C3%B3n.ipynb\" target=\"_parent\"><img src=\"https://colab.research.google.com/assets/colab-badge.svg\" alt=\"Open In Colab\"/></a>"
      ]
    },
    {
      "cell_type": "markdown",
      "source": [
        "0. Se procede a cargar las librerias de trabajo"
      ],
      "metadata": {
        "id": "r374VO2QPI4A"
      }
    },
    {
      "cell_type": "code",
      "execution_count": null,
      "metadata": {
        "colab": {
          "base_uri": "https://localhost:8080/"
        },
        "id": "iZO_s8zCO5lt",
        "outputId": "a42997a4-898b-4ad4-d97d-ba91961f5a6e"
      },
      "outputs": [
        {
          "output_type": "stream",
          "name": "stdout",
          "text": [
            "Drive already mounted at /content/drive; to attempt to forcibly remount, call drive.mount(\"/content/drive\", force_remount=True).\n"
          ]
        }
      ],
      "source": [
        "#Librerias cientificas\n",
        "import numpy as np\n",
        "import pandas as pd\n",
        "\n",
        "#Librerias Arbol\n",
        "from sklearn.tree import DecisionTreeClassifier\n",
        "from sklearn.metrics import confusion_matrix\n",
        "\n",
        "#Librerias Visualizacion\n",
        "import matplotlib.pyplot as plt\n",
        "import seaborn as sns\n",
        "\n",
        "#Conectar al Drive\n",
        "from google.colab import drive\n",
        "drive.mount('/content/drive')"
      ]
    },
    {
      "cell_type": "markdown",
      "source": [
        "1. Se procede a cargar la base de datos"
      ],
      "metadata": {
        "id": "19AXrsBoPu9r"
      }
    },
    {
      "cell_type": "code",
      "source": [
        "nxl='/content/drive/MyDrive/2. CollegeAdmisions_Int_M.xlsx'\n",
        "XDB=pd.read_excel(nxl, sheet_name=0) #College_Admisions\n",
        "XDB=XDB.dropna() #Eliminar filas vacías\n",
        "XDB.head(100) #Mostrar 100 lineas del archivo\n",
        "\n",
        "#Convertir la varible Gender a numérica\n",
        "XDB['Gender'] = XDB['Gender'].map({'F': 0, 'M': 1})\n",
        "\n",
        "#Seleccionar las variables de interés\n",
        "XD=XDB[['Edu_Parent1','Edu_Parent2','Gender','White','Asian','HSGPA','SAT/ACT']]\n",
        "yd=XDB[['Admitted']]\n"
      ],
      "metadata": {
        "colab": {
          "base_uri": "https://localhost:8080/",
          "height": 424
        },
        "id": "eDafbH-HPxsv",
        "outputId": "b7ce4acc-6d2b-415d-be2a-8148d8bd1a05"
      },
      "execution_count": null,
      "outputs": [
        {
          "output_type": "execute_result",
          "data": {
            "text/plain": [
              "       Admitted\n",
              "6             1\n",
              "28            1\n",
              "46            0\n",
              "61            0\n",
              "65            1\n",
              "...         ...\n",
              "17330         1\n",
              "17332         1\n",
              "17333         1\n",
              "17334         1\n",
              "17337         1\n",
              "\n",
              "[1528 rows x 1 columns]"
            ],
            "text/html": [
              "\n",
              "  <div id=\"df-97457f49-7a19-4897-97ba-50093d2bee2a\" class=\"colab-df-container\">\n",
              "    <div>\n",
              "<style scoped>\n",
              "    .dataframe tbody tr th:only-of-type {\n",
              "        vertical-align: middle;\n",
              "    }\n",
              "\n",
              "    .dataframe tbody tr th {\n",
              "        vertical-align: top;\n",
              "    }\n",
              "\n",
              "    .dataframe thead th {\n",
              "        text-align: right;\n",
              "    }\n",
              "</style>\n",
              "<table border=\"1\" class=\"dataframe\">\n",
              "  <thead>\n",
              "    <tr style=\"text-align: right;\">\n",
              "      <th></th>\n",
              "      <th>Admitted</th>\n",
              "    </tr>\n",
              "  </thead>\n",
              "  <tbody>\n",
              "    <tr>\n",
              "      <th>6</th>\n",
              "      <td>1</td>\n",
              "    </tr>\n",
              "    <tr>\n",
              "      <th>28</th>\n",
              "      <td>1</td>\n",
              "    </tr>\n",
              "    <tr>\n",
              "      <th>46</th>\n",
              "      <td>0</td>\n",
              "    </tr>\n",
              "    <tr>\n",
              "      <th>61</th>\n",
              "      <td>0</td>\n",
              "    </tr>\n",
              "    <tr>\n",
              "      <th>65</th>\n",
              "      <td>1</td>\n",
              "    </tr>\n",
              "    <tr>\n",
              "      <th>...</th>\n",
              "      <td>...</td>\n",
              "    </tr>\n",
              "    <tr>\n",
              "      <th>17330</th>\n",
              "      <td>1</td>\n",
              "    </tr>\n",
              "    <tr>\n",
              "      <th>17332</th>\n",
              "      <td>1</td>\n",
              "    </tr>\n",
              "    <tr>\n",
              "      <th>17333</th>\n",
              "      <td>1</td>\n",
              "    </tr>\n",
              "    <tr>\n",
              "      <th>17334</th>\n",
              "      <td>1</td>\n",
              "    </tr>\n",
              "    <tr>\n",
              "      <th>17337</th>\n",
              "      <td>1</td>\n",
              "    </tr>\n",
              "  </tbody>\n",
              "</table>\n",
              "<p>1528 rows × 1 columns</p>\n",
              "</div>\n",
              "    <div class=\"colab-df-buttons\">\n",
              "\n",
              "  <div class=\"colab-df-container\">\n",
              "    <button class=\"colab-df-convert\" onclick=\"convertToInteractive('df-97457f49-7a19-4897-97ba-50093d2bee2a')\"\n",
              "            title=\"Convert this dataframe to an interactive table.\"\n",
              "            style=\"display:none;\">\n",
              "\n",
              "  <svg xmlns=\"http://www.w3.org/2000/svg\" height=\"24px\" viewBox=\"0 -960 960 960\">\n",
              "    <path d=\"M120-120v-720h720v720H120Zm60-500h600v-160H180v160Zm220 220h160v-160H400v160Zm0 220h160v-160H400v160ZM180-400h160v-160H180v160Zm440 0h160v-160H620v160ZM180-180h160v-160H180v160Zm440 0h160v-160H620v160Z\"/>\n",
              "  </svg>\n",
              "    </button>\n",
              "\n",
              "  <style>\n",
              "    .colab-df-container {\n",
              "      display:flex;\n",
              "      gap: 12px;\n",
              "    }\n",
              "\n",
              "    .colab-df-convert {\n",
              "      background-color: #E8F0FE;\n",
              "      border: none;\n",
              "      border-radius: 50%;\n",
              "      cursor: pointer;\n",
              "      display: none;\n",
              "      fill: #1967D2;\n",
              "      height: 32px;\n",
              "      padding: 0 0 0 0;\n",
              "      width: 32px;\n",
              "    }\n",
              "\n",
              "    .colab-df-convert:hover {\n",
              "      background-color: #E2EBFA;\n",
              "      box-shadow: 0px 1px 2px rgba(60, 64, 67, 0.3), 0px 1px 3px 1px rgba(60, 64, 67, 0.15);\n",
              "      fill: #174EA6;\n",
              "    }\n",
              "\n",
              "    .colab-df-buttons div {\n",
              "      margin-bottom: 4px;\n",
              "    }\n",
              "\n",
              "    [theme=dark] .colab-df-convert {\n",
              "      background-color: #3B4455;\n",
              "      fill: #D2E3FC;\n",
              "    }\n",
              "\n",
              "    [theme=dark] .colab-df-convert:hover {\n",
              "      background-color: #434B5C;\n",
              "      box-shadow: 0px 1px 3px 1px rgba(0, 0, 0, 0.15);\n",
              "      filter: drop-shadow(0px 1px 2px rgba(0, 0, 0, 0.3));\n",
              "      fill: #FFFFFF;\n",
              "    }\n",
              "  </style>\n",
              "\n",
              "    <script>\n",
              "      const buttonEl =\n",
              "        document.querySelector('#df-97457f49-7a19-4897-97ba-50093d2bee2a button.colab-df-convert');\n",
              "      buttonEl.style.display =\n",
              "        google.colab.kernel.accessAllowed ? 'block' : 'none';\n",
              "\n",
              "      async function convertToInteractive(key) {\n",
              "        const element = document.querySelector('#df-97457f49-7a19-4897-97ba-50093d2bee2a');\n",
              "        const dataTable =\n",
              "          await google.colab.kernel.invokeFunction('convertToInteractive',\n",
              "                                                    [key], {});\n",
              "        if (!dataTable) return;\n",
              "\n",
              "        const docLinkHtml = 'Like what you see? Visit the ' +\n",
              "          '<a target=\"_blank\" href=https://colab.research.google.com/notebooks/data_table.ipynb>data table notebook</a>'\n",
              "          + ' to learn more about interactive tables.';\n",
              "        element.innerHTML = '';\n",
              "        dataTable['output_type'] = 'display_data';\n",
              "        await google.colab.output.renderOutput(dataTable, element);\n",
              "        const docLink = document.createElement('div');\n",
              "        docLink.innerHTML = docLinkHtml;\n",
              "        element.appendChild(docLink);\n",
              "      }\n",
              "    </script>\n",
              "  </div>\n",
              "\n",
              "\n",
              "<div id=\"df-f01f305c-1435-4783-bf06-c91d68ad4646\">\n",
              "  <button class=\"colab-df-quickchart\" onclick=\"quickchart('df-f01f305c-1435-4783-bf06-c91d68ad4646')\"\n",
              "            title=\"Suggest charts\"\n",
              "            style=\"display:none;\">\n",
              "\n",
              "<svg xmlns=\"http://www.w3.org/2000/svg\" height=\"24px\"viewBox=\"0 0 24 24\"\n",
              "     width=\"24px\">\n",
              "    <g>\n",
              "        <path d=\"M19 3H5c-1.1 0-2 .9-2 2v14c0 1.1.9 2 2 2h14c1.1 0 2-.9 2-2V5c0-1.1-.9-2-2-2zM9 17H7v-7h2v7zm4 0h-2V7h2v10zm4 0h-2v-4h2v4z\"/>\n",
              "    </g>\n",
              "</svg>\n",
              "  </button>\n",
              "\n",
              "<style>\n",
              "  .colab-df-quickchart {\n",
              "      --bg-color: #E8F0FE;\n",
              "      --fill-color: #1967D2;\n",
              "      --hover-bg-color: #E2EBFA;\n",
              "      --hover-fill-color: #174EA6;\n",
              "      --disabled-fill-color: #AAA;\n",
              "      --disabled-bg-color: #DDD;\n",
              "  }\n",
              "\n",
              "  [theme=dark] .colab-df-quickchart {\n",
              "      --bg-color: #3B4455;\n",
              "      --fill-color: #D2E3FC;\n",
              "      --hover-bg-color: #434B5C;\n",
              "      --hover-fill-color: #FFFFFF;\n",
              "      --disabled-bg-color: #3B4455;\n",
              "      --disabled-fill-color: #666;\n",
              "  }\n",
              "\n",
              "  .colab-df-quickchart {\n",
              "    background-color: var(--bg-color);\n",
              "    border: none;\n",
              "    border-radius: 50%;\n",
              "    cursor: pointer;\n",
              "    display: none;\n",
              "    fill: var(--fill-color);\n",
              "    height: 32px;\n",
              "    padding: 0;\n",
              "    width: 32px;\n",
              "  }\n",
              "\n",
              "  .colab-df-quickchart:hover {\n",
              "    background-color: var(--hover-bg-color);\n",
              "    box-shadow: 0 1px 2px rgba(60, 64, 67, 0.3), 0 1px 3px 1px rgba(60, 64, 67, 0.15);\n",
              "    fill: var(--button-hover-fill-color);\n",
              "  }\n",
              "\n",
              "  .colab-df-quickchart-complete:disabled,\n",
              "  .colab-df-quickchart-complete:disabled:hover {\n",
              "    background-color: var(--disabled-bg-color);\n",
              "    fill: var(--disabled-fill-color);\n",
              "    box-shadow: none;\n",
              "  }\n",
              "\n",
              "  .colab-df-spinner {\n",
              "    border: 2px solid var(--fill-color);\n",
              "    border-color: transparent;\n",
              "    border-bottom-color: var(--fill-color);\n",
              "    animation:\n",
              "      spin 1s steps(1) infinite;\n",
              "  }\n",
              "\n",
              "  @keyframes spin {\n",
              "    0% {\n",
              "      border-color: transparent;\n",
              "      border-bottom-color: var(--fill-color);\n",
              "      border-left-color: var(--fill-color);\n",
              "    }\n",
              "    20% {\n",
              "      border-color: transparent;\n",
              "      border-left-color: var(--fill-color);\n",
              "      border-top-color: var(--fill-color);\n",
              "    }\n",
              "    30% {\n",
              "      border-color: transparent;\n",
              "      border-left-color: var(--fill-color);\n",
              "      border-top-color: var(--fill-color);\n",
              "      border-right-color: var(--fill-color);\n",
              "    }\n",
              "    40% {\n",
              "      border-color: transparent;\n",
              "      border-right-color: var(--fill-color);\n",
              "      border-top-color: var(--fill-color);\n",
              "    }\n",
              "    60% {\n",
              "      border-color: transparent;\n",
              "      border-right-color: var(--fill-color);\n",
              "    }\n",
              "    80% {\n",
              "      border-color: transparent;\n",
              "      border-right-color: var(--fill-color);\n",
              "      border-bottom-color: var(--fill-color);\n",
              "    }\n",
              "    90% {\n",
              "      border-color: transparent;\n",
              "      border-bottom-color: var(--fill-color);\n",
              "    }\n",
              "  }\n",
              "</style>\n",
              "\n",
              "  <script>\n",
              "    async function quickchart(key) {\n",
              "      const quickchartButtonEl =\n",
              "        document.querySelector('#' + key + ' button');\n",
              "      quickchartButtonEl.disabled = true;  // To prevent multiple clicks.\n",
              "      quickchartButtonEl.classList.add('colab-df-spinner');\n",
              "      try {\n",
              "        const charts = await google.colab.kernel.invokeFunction(\n",
              "            'suggestCharts', [key], {});\n",
              "      } catch (error) {\n",
              "        console.error('Error during call to suggestCharts:', error);\n",
              "      }\n",
              "      quickchartButtonEl.classList.remove('colab-df-spinner');\n",
              "      quickchartButtonEl.classList.add('colab-df-quickchart-complete');\n",
              "    }\n",
              "    (() => {\n",
              "      let quickchartButtonEl =\n",
              "        document.querySelector('#df-f01f305c-1435-4783-bf06-c91d68ad4646 button');\n",
              "      quickchartButtonEl.style.display =\n",
              "        google.colab.kernel.accessAllowed ? 'block' : 'none';\n",
              "    })();\n",
              "  </script>\n",
              "</div>\n",
              "\n",
              "  <div id=\"id_7f09fb77-0b5d-4fd1-98fd-feeb8e32dfd6\">\n",
              "    <style>\n",
              "      .colab-df-generate {\n",
              "        background-color: #E8F0FE;\n",
              "        border: none;\n",
              "        border-radius: 50%;\n",
              "        cursor: pointer;\n",
              "        display: none;\n",
              "        fill: #1967D2;\n",
              "        height: 32px;\n",
              "        padding: 0 0 0 0;\n",
              "        width: 32px;\n",
              "      }\n",
              "\n",
              "      .colab-df-generate:hover {\n",
              "        background-color: #E2EBFA;\n",
              "        box-shadow: 0px 1px 2px rgba(60, 64, 67, 0.3), 0px 1px 3px 1px rgba(60, 64, 67, 0.15);\n",
              "        fill: #174EA6;\n",
              "      }\n",
              "\n",
              "      [theme=dark] .colab-df-generate {\n",
              "        background-color: #3B4455;\n",
              "        fill: #D2E3FC;\n",
              "      }\n",
              "\n",
              "      [theme=dark] .colab-df-generate:hover {\n",
              "        background-color: #434B5C;\n",
              "        box-shadow: 0px 1px 3px 1px rgba(0, 0, 0, 0.15);\n",
              "        filter: drop-shadow(0px 1px 2px rgba(0, 0, 0, 0.3));\n",
              "        fill: #FFFFFF;\n",
              "      }\n",
              "    </style>\n",
              "    <button class=\"colab-df-generate\" onclick=\"generateWithVariable('yd')\"\n",
              "            title=\"Generate code using this dataframe.\"\n",
              "            style=\"display:none;\">\n",
              "\n",
              "  <svg xmlns=\"http://www.w3.org/2000/svg\" height=\"24px\"viewBox=\"0 0 24 24\"\n",
              "       width=\"24px\">\n",
              "    <path d=\"M7,19H8.4L18.45,9,17,7.55,7,17.6ZM5,21V16.75L18.45,3.32a2,2,0,0,1,2.83,0l1.4,1.43a1.91,1.91,0,0,1,.58,1.4,1.91,1.91,0,0,1-.58,1.4L9.25,21ZM18.45,9,17,7.55Zm-12,3A5.31,5.31,0,0,0,4.9,8.1,5.31,5.31,0,0,0,1,6.5,5.31,5.31,0,0,0,4.9,4.9,5.31,5.31,0,0,0,6.5,1,5.31,5.31,0,0,0,8.1,4.9,5.31,5.31,0,0,0,12,6.5,5.46,5.46,0,0,0,6.5,12Z\"/>\n",
              "  </svg>\n",
              "    </button>\n",
              "    <script>\n",
              "      (() => {\n",
              "      const buttonEl =\n",
              "        document.querySelector('#id_7f09fb77-0b5d-4fd1-98fd-feeb8e32dfd6 button.colab-df-generate');\n",
              "      buttonEl.style.display =\n",
              "        google.colab.kernel.accessAllowed ? 'block' : 'none';\n",
              "\n",
              "      buttonEl.onclick = () => {\n",
              "        google.colab.notebook.generateWithVariable('yd');\n",
              "      }\n",
              "      })();\n",
              "    </script>\n",
              "  </div>\n",
              "\n",
              "    </div>\n",
              "  </div>\n"
            ],
            "application/vnd.google.colaboratory.intrinsic+json": {
              "type": "dataframe",
              "variable_name": "yd",
              "summary": "{\n  \"name\": \"yd\",\n  \"rows\": 1528,\n  \"fields\": [\n    {\n      \"column\": \"Admitted\",\n      \"properties\": {\n        \"dtype\": \"number\",\n        \"std\": 0,\n        \"min\": 0,\n        \"max\": 1,\n        \"num_unique_values\": 2,\n        \"samples\": [\n          0,\n          1\n        ],\n        \"semantic_type\": \"\",\n        \"description\": \"\"\n      }\n    }\n  ]\n}"
            }
          },
          "metadata": {},
          "execution_count": 33
        }
      ]
    },
    {
      "cell_type": "markdown",
      "source": [
        "**Descripción de los Datos**\n",
        "De acuerdo con la base de datos de estudiantes admitidos en la universidad, esta posee un total de 1528 datos totales, divividos en 225 estudiantes no admitidos y 1303 personas admitidas. Cada uno de los estudiantes estará descrito en función de 7 variables:\n",
        "\n",
        "* Edu_Parent1: Hace referencia al nivel educativo que posee su primer padre.\n",
        "* Edu_Parent2: Hace referencia al nivel educativo que posee su segundo padre.\n",
        "* Gender: Hace referencia al género del estudiante interesado en ingresar a la universidad. (F=0 y M=1)\n",
        "* White: Variable que indica si el estudiante es idenficiado como blanco. (Si=1 y No=0)\n",
        "* Asian: Variable que indica si el estudiante es idenficiado como asiatico. (Si=1 y No=0)\n",
        "* HSGPA: Indica el promedio de calificaciones de los estudiantes en su secundaria.\n",
        "* SAT/ACT: Puntaje obtenido por los estudiantes en los examénes SAT o ACT.\n",
        "* Admitted: Variable que indica si el estudiante fue admitido o no. (Si=1 y No=0)"
      ],
      "metadata": {
        "id": "3Oo22X40095K"
      }
    },
    {
      "cell_type": "markdown",
      "source": [
        "* Se determinan el número de personas admitidas en la Universidad"
      ],
      "metadata": {
        "id": "bMCtkXqWRj67"
      }
    },
    {
      "cell_type": "code",
      "source": [
        "# Convertir 'Yes' a 1 y 'No' a 0\n",
        "XDB[\"Admitted\"] = XDB[\"Admitted\"].map({\"Yes\": 1, \"No\": 0})\n",
        "\n",
        "# Ahora sí, contar los admitidos\n",
        "num_admitidos = XDB[\"Admitted\"].sum()\n",
        "print(f\"Número de personas admitidas: {num_admitidos}\")"
      ],
      "metadata": {
        "colab": {
          "base_uri": "https://localhost:8080/"
        },
        "id": "N4IAhLuPRm7N",
        "outputId": "037cd366-5582-438f-ecae-c29845861d9f"
      },
      "execution_count": null,
      "outputs": [
        {
          "output_type": "stream",
          "name": "stdout",
          "text": [
            "Número de personas admitidas: 1303\n"
          ]
        }
      ]
    },
    {
      "cell_type": "markdown",
      "source": [
        "2. Se procede con la implementación del modelo"
      ],
      "metadata": {
        "id": "5VhH3MnGThj6"
      }
    },
    {
      "cell_type": "code",
      "source": [
        "mar=DecisionTreeClassifier(criterion='gini',max_depth=4)\n",
        "mar.fit(XD,yd) #Ajustar el modelo entre la entrada y la salida\n",
        "\n",
        "#Se procede con la gráfica\n",
        "from pydotplus import graph_from_dot_data #Me crea la gráfica\n",
        "from sklearn.tree import export_graphviz #Me exporta a PNG, JPEG, TIFF.\n",
        "\n",
        "ve=['Edu_Parent1','Edu_Parent2','Gender','White','Asian','HSGPA','SAT/ACT'] #Nombres para el Árbol\n",
        "dot_data=export_graphviz(mar,feature_names=ve) #Crear el gráfico\n",
        "graph=graph_from_dot_data(dot_data)\n",
        "graph.write_png('2. ArbolDecision_M.png') #Exportar a PNG"
      ],
      "metadata": {
        "id": "wHUTAu3wTl2I",
        "colab": {
          "base_uri": "https://localhost:8080/"
        },
        "outputId": "a75b943e-3782-4488-de1e-e995cad32997"
      },
      "execution_count": null,
      "outputs": [
        {
          "output_type": "execute_result",
          "data": {
            "text/plain": [
              "True"
            ]
          },
          "metadata": {},
          "execution_count": 25
        }
      ]
    },
    {
      "cell_type": "markdown",
      "source": [
        "* Se determina la cantidad de nodos puros para el árbol del modelo"
      ],
      "metadata": {
        "id": "eLP5pOplyTro"
      }
    },
    {
      "cell_type": "code",
      "source": [
        "num_nodos_puros = sum(mar.tree_.impurity == 0)\n",
        "print(f\"Número de nodos puros en el árbol (Gini = 0.0): {num_nodos_puros}\")"
      ],
      "metadata": {
        "colab": {
          "base_uri": "https://localhost:8080/"
        },
        "id": "QLtCDdfoyhDi",
        "outputId": "4e62a165-c5a2-4276-8281-4966d69fca9f"
      },
      "execution_count": null,
      "outputs": [
        {
          "output_type": "stream",
          "name": "stdout",
          "text": [
            "Número de nodos puros en el árbol (Gini = 0.0): 7\n"
          ]
        }
      ]
    },
    {
      "cell_type": "markdown",
      "source": [
        "3. Se procede a realizar el pronóstico de los solicitantes que no fueron admitidos"
      ],
      "metadata": {
        "id": "d9ulRnEOyus_"
      }
    },
    {
      "cell_type": "code",
      "source": [
        "#Se carga la hoja\n",
        "XDB0=pd.read_excel(nxl, sheet_name=1)\n",
        "XDB0.head(100) #Mostrar 100 lineas del archivo\n",
        "\n",
        "#Se convierte gender a numérico\n",
        "XDB0['Gender'] = XDB0['Gender'].map({'F': 0, 'M': 1})\n",
        "\n",
        "#Se crea la base de datos a pronósticar\n",
        "XD0=XDB0[['Edu_Parent1','Edu_Parent2','Gender','White','Asian','HSGPA','SAT/ACT']]\n",
        "yd0=XDB0[['Admitted']]\n",
        "\n",
        "#Mantener a todos los solicitantes\n",
        "filas=XDB0.index\n",
        "\n",
        "#Le calculamos la predicción\n",
        "y_pred=mar.predict(XD0)\n",
        "\n",
        "#Se crea el informe en Excel\n",
        "df=pd.DataFrame(XD0)\n",
        "df['Admitted_Predicted']=y_pred\n",
        "df.insert(0,'Applicant',filas)\n",
        "\n",
        "#Guardar Excel\n",
        "df.to_excel('2. ArbolDecision_M.xlsx', index=False)"
      ],
      "metadata": {
        "id": "ndRTBFY-y1oo"
      },
      "execution_count": null,
      "outputs": []
    },
    {
      "cell_type": "markdown",
      "source": [
        "4. Evaluar el comportamiento del modelo"
      ],
      "metadata": {
        "id": "D8NWETKU0hCx"
      }
    },
    {
      "cell_type": "code",
      "source": [
        "ydp=mar.predict(XD) #Prónostico sobre la base de datos original\n",
        "cm=confusion_matrix(yd,ydp) #Matriz de confusión\n",
        "print(\"La matriz de confusión es:\\n\", cm)\n",
        "\n",
        "VN=cm[0,0];FP=cm[0,1];FN=cm[1,0];VP=cm[1,1]\n",
        "\n",
        "Exactitud=(VP+VN)/(VP+VN+FP+FN)\n",
        "Sensibilidad=VP/(VP+FN)\n",
        "Especificidad=VN/(VN+FP)\n",
        "Precisión=VP/(VP+FP)\n",
        "TasaError=(FP+FN)/(VP+VN+FP+FN)\n",
        "PredNeg=VN/(VN+FN) #Tasa de F\n",
        "PredPos=VP/(VP+FP) #Tasa de V\n",
        "\n",
        "print(\"La exactitud es:\",Exactitud)\n",
        "print(\"La sensibilidad es:\",Sensibilidad)\n",
        "print(\"La especificidad es:\",Especificidad)\n",
        "print(\"La precisión es:\",Precisión)\n",
        "print(\"La tasa de error es:\",TasaError)\n",
        "print(\"La tasa de predicción negativa es:\",PredNeg)"
      ],
      "metadata": {
        "colab": {
          "base_uri": "https://localhost:8080/"
        },
        "id": "2bfYdTpftJ-h",
        "outputId": "f65daadd-d40e-401e-bdfd-6a73b75afdd1"
      },
      "execution_count": null,
      "outputs": [
        {
          "output_type": "stream",
          "name": "stdout",
          "text": [
            "La matriz de confusión es:\n",
            " [[  20  205]\n",
            " [   2 1301]]\n",
            "La exactitud es: 0.8645287958115183\n",
            "La sensibilidad es: 0.9984650805832693\n",
            "La especificidad es: 0.08888888888888889\n",
            "La precisión es: 0.8638778220451527\n",
            "La tasa de error es: 0.1354712041884817\n",
            "La tasa de predicción negativa es: 0.9090909090909091\n"
          ]
        }
      ]
    },
    {
      "cell_type": "markdown",
      "source": [
        "**Análisis de los Resultados**\n",
        "La matriz de confusión muestra una alta predominancia por los valores verdaderos positivos (1301) y verdaderos negativos (20), mientras que los falsos positivos (205) y falsos negativos (2) son significativamente menores respecto a los positivos. Esto hizo que el modelo tuviera un buen desempeño en la identificación de estudiantes admitidos, aunque su capacidad para detectar correctamente a los no admitidos es baja.\n",
        "\n",
        "Asimismo, su exactitud cerca al 90% (86,4%), nos da a entender que es un modelo que se comporta bien a la hora de indentificar a los estudiantes que son admitidos. Además, esto lo corrobora su tasa de error del 13% que es baja, de igual manera, también podemos observar la sensibilidad que nos da a entender que el modelo funciona correctamente a la hora de indentificar a los estudiantes admitidos.\n",
        "\n",
        "Sin embargo, se tiene una especificidad bastante baja del 8% que nos da a entender que si bien el modelo es bueno para identificar a los admitidos no es tan bueno para identificar a los que no lo fueron.\n",
        "\n",
        "Finalmente, se puede decir que su comportamieto es correcto aunque haya margen de mejora en los que no fueron admitidos, ya que todos los resultados nos dieron un porcentaje favorable excepto el de especificidad.\n"
      ],
      "metadata": {
        "id": "cyKhOXmu35nc"
      }
    }
  ]
}