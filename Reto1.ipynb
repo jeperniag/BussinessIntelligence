{
  "nbformat": 4,
  "nbformat_minor": 0,
  "metadata": {
    "colab": {
      "provenance": [],
      "authorship_tag": "ABX9TyMuRvg/UUij6ANW/pblkNfH",
      "include_colab_link": true
    },
    "kernelspec": {
      "name": "python3",
      "display_name": "Python 3"
    },
    "language_info": {
      "name": "python"
    }
  },
  "cells": [
    {
      "cell_type": "markdown",
      "metadata": {
        "id": "view-in-github",
        "colab_type": "text"
      },
      "source": [
        "<a href=\"https://colab.research.google.com/github/jeperniag/BussinessIntelligence/blob/main/Reto1.ipynb\" target=\"_parent\"><img src=\"https://colab.research.google.com/assets/colab-badge.svg\" alt=\"Open In Colab\"/></a>"
      ]
    },
    {
      "cell_type": "markdown",
      "source": [
        "Cargar librerias"
      ],
      "metadata": {
        "id": "gyCe2rLxCbct"
      }
    },
    {
      "cell_type": "code",
      "source": [
        "import pandas as pd\n",
        "import numpy as np"
      ],
      "metadata": {
        "id": "tzRoZY5zCZ2G"
      },
      "execution_count": null,
      "outputs": []
    },
    {
      "cell_type": "markdown",
      "source": [
        "Cargar base de datos\n",
        "1. ¿Cuál es el número de datos total de la base de datos?"
      ],
      "metadata": {
        "id": "qLraNVYHCp-k"
      }
    },
    {
      "cell_type": "code",
      "source": [
        "nxl='/content/1. BD1_Longitudinal Survey_Int.xlsx'\n",
        "XDB=pd.read_excel(nxl,sheet_name=0)\n",
        "\n",
        "num_filas = XDB.shape[0]  # Obtiene el número de filas\n",
        "num_columnas = XDB.shape[1]  # Obtiene el número de columnas\n",
        "\n",
        "print(\"Número de filas:\", num_filas)\n",
        "print(\"Número de columnas:\", num_columnas)"
      ],
      "metadata": {
        "colab": {
          "base_uri": "https://localhost:8080/"
        },
        "collapsed": true,
        "id": "KR0avBqgCs0v",
        "outputId": "0fd3d56a-efec-4e3b-89dc-b254be57a675"
      },
      "execution_count": null,
      "outputs": [
        {
          "output_type": "stream",
          "name": "stdout",
          "text": [
            "Número de filas: 12686\n",
            "Número de columnas: 24\n"
          ]
        }
      ]
    },
    {
      "cell_type": "code",
      "source": [
        "#Se seleccionan las variables de interés\n",
        "XDB=XDB[['Age','Urban','Mother_Edu', 'Father_Edu','FamilySize','Self_Esteem','Height','Weight','Income']]\n",
        "XDB.head(10)\n",
        "\n",
        "#Se separan las variables de entrada y salida\n",
        "XD=XDB[['Age','Mother_Edu', 'Father_Edu','FamilySize','Self_Esteem','Height','Weight','Income']] #Variables de Entrada\n",
        "yd=XDB[['Urban']] #Variable de Salida - Variable Pronóstico - Deseada\n",
        "\n",
        "# Eliminar las filas con valores NaN en 'yd' antes de entrenar el modelo\n",
        "# Esto asegura que 'yd' no contenga ningún valor NaN\n",
        "\n",
        "XD=XDB[['Age','Mother_Edu', 'Father_Edu','FamilySize','Self_Esteem','Height','Weight','Income']] #Variables de Entrada\n",
        "yd=XDB[['Urban']] #Variable de Salida - Variable Pronóstico - Deseada\n",
        "\n",
        "XDB=XDB.dropna() #Evitar celdas vacias\n",
        "\n",
        "num_filas = XDB.shape[0]  # Obtiene el número de filas\n",
        "num_columnas = XDB.shape[1]  # Obtiene el número de columnas\n",
        "\n",
        "print(\"Número de filas:\", num_filas)\n",
        "print(\"Número de columnas:\", num_columnas)"
      ],
      "metadata": {
        "colab": {
          "base_uri": "https://localhost:8080/"
        },
        "id": "8ADrEHX1FWYh",
        "outputId": "9aad9582-6612-4d78-d937-2fd8afb52b30"
      },
      "execution_count": null,
      "outputs": [
        {
          "output_type": "stream",
          "name": "stdout",
          "text": [
            "Número de filas: 5948\n",
            "Número de columnas: 9\n"
          ]
        }
      ]
    },
    {
      "cell_type": "markdown",
      "source": [
        "•\tDeterminar la categoría a la que pertenece una persona con las siguientes características mediante la utilización del modelo Naive Bayes y Clustering: [5000000,37,82,245,45,17.8,0.5,1.4,0.4]\n",
        "\n",
        "\n",
        "\n",
        "\n",
        "\n"
      ],
      "metadata": {
        "id": "c4opdRw6Lgci"
      }
    },
    {
      "cell_type": "code",
      "source": [
        "from sklearn.naive_bayes import GaussianNB #from antes de import es prestamo interbibliotecario\n",
        "\n",
        "mnb=GaussianNB() #Aloja el modelo - Campana\n",
        "mnb.fit(XD,yd) #Entrena el modelo - Sacar media, de, valores de pertenencia\n",
        "\n",
        "#Obtenemos la información del modelo\n",
        "u=mnb.theta_ #Obtenemos la media\n",
        "print(\"La media es:\\n\",u)\n",
        "var=mnb.var_ #Obtenemos la varianzas - O2 es la varianza y O es la desviación\n",
        "sigma=np.sqrt(var) #Se calcula la desviación estandar\n",
        "print(\"La desviación es:\\n\",sigma)\n",
        "\n",
        "#Se determinan los limites superiores e inferiores\n",
        "LS=u+sigma\n",
        "LI=u-sigma\n",
        "print(\"El limite superior es:\\n\",LS)\n",
        "print(\"El limite inferior es:\\n\",LI)\n",
        "\n",
        "#Evaluamos un solicitantes\n",
        "XDS=[5000000,37,82,245,45,17.8,0.5,1.4,0.4] #Como un valor de entrada -\n",
        "ydp=mnb.predict(XDS) #Se obtiene la predicción\n",
        "print(\"La predicción de la persona es:\\n\",ydp)\n",
        "\n",
        "if ydp==0:\n",
        "  print(\"La persona vive en un área rural\")\n",
        "\n",
        "if ydp==1:\n",
        "  print(\"La persona vive en un área urbana\")"
      ],
      "metadata": {
        "colab": {
          "base_uri": "https://localhost:8080/"
        },
        "id": "kBiOOMt7KV5D",
        "outputId": "cf73330d-1fb2-40e3-f30b-d6c315af696e"
      },
      "execution_count": null,
      "outputs": [
        {
          "output_type": "stream",
          "name": "stdout",
          "text": [
            "La media es:\n",
            " [[1.83640032e+01 1.07312349e+01 1.02711864e+01 4.73930589e+00\n",
            "  2.19951574e+01 6.72429379e+01 1.49003228e+02 3.01248854e+04]\n",
            " [1.83618603e+01 1.11613931e+01 1.12331705e+01 4.68103631e+00\n",
            "  2.25744319e+01 6.69116585e+01 1.44750903e+02 3.32736742e+04]]\n",
            "La desviación es:\n",
            " [[2.47260545e+00 3.15661127e+00 3.88837565e+00 2.55226748e+00\n",
            "  4.21650807e+00 4.08228636e+00 3.03486350e+01 3.16482374e+04]\n",
            " [2.47344359e+00 3.40066236e+00 4.11549881e+00 2.44205851e+00\n",
            "  4.19763081e+00 4.20193102e+00 3.00285301e+01 3.60897302e+04]]\n",
            "El limite superior es:\n",
            " [[2.08366087e+01 1.38878461e+01 1.41595621e+01 7.29157338e+00\n",
            "  2.62116655e+01 7.13252242e+01 1.79351863e+02 6.17731228e+04]\n",
            " [2.08353039e+01 1.45620554e+01 1.53486693e+01 7.12309482e+00\n",
            "  2.67720628e+01 7.11135895e+01 1.74779433e+02 6.93634044e+04]]\n",
            "El limite inferior es:\n",
            " [[ 1.58913978e+01  7.57462359e+00  6.38281079e+00  2.18703841e+00\n",
            "   1.77786493e+01  6.31606515e+01  1.18654593e+02 -1.52335198e+03]\n",
            " [ 1.58884167e+01  7.76073072e+00  7.11767172e+00  2.23897780e+00\n",
            "   1.83768011e+01  6.27097275e+01  1.14722372e+02 -2.81605593e+03]]\n",
            "La predicción de la persona es:\n",
            " [1.]\n",
            "La persona vive en un área urbana\n"
          ]
        },
        {
          "output_type": "stream",
          "name": "stderr",
          "text": [
            "/usr/local/lib/python3.11/dist-packages/sklearn/utils/validation.py:1408: DataConversionWarning: A column-vector y was passed when a 1d array was expected. Please change the shape of y to (n_samples, ), for example using ravel().\n",
            "  y = column_or_1d(y, warn=True)\n",
            "/usr/local/lib/python3.11/dist-packages/sklearn/utils/validation.py:2739: UserWarning: X does not have valid feature names, but GaussianNB was fitted with feature names\n",
            "  warnings.warn(\n"
          ]
        }
      ]
    },
    {
      "cell_type": "markdown",
      "source": [
        "2. ¿Cuál es el porcentaje de los datos que hacen parte de cada una de las categorías de clasificación?"
      ],
      "metadata": {
        "id": "QVI1kNTyRRym"
      }
    },
    {
      "cell_type": "code",
      "source": [
        "# Porcentaje de cada categoría en \"Urban\"\n",
        "categories = XDB['Urban'].value_counts(normalize=True) * 100\n",
        "print('Porcentaje de datos en cada categoría:\\n', categories)\n",
        "#1.0 → 79.16%: Significa que el 79.16% de las personas en la base de datos viven en áreas urbanas.\n",
        "#0.0 → 20.83%: Indica que el 20.83% de las personas viven en áreas rurales."
      ],
      "metadata": {
        "colab": {
          "base_uri": "https://localhost:8080/"
        },
        "id": "xoSfCgHTSgGy",
        "outputId": "3fd1e83f-84b1-43a7-f294-c237bc6e6ac6"
      },
      "execution_count": null,
      "outputs": [
        {
          "output_type": "stream",
          "name": "stdout",
          "text": [
            "Porcentaje de datos en cada categoría:\n",
            " Urban\n",
            "1.0    79.169469\n",
            "0.0    20.830531\n",
            "Name: proportion, dtype: float64\n"
          ]
        }
      ]
    },
    {
      "cell_type": "markdown",
      "source": [
        "3. Determinar el intervalo en el cual se encuentra la variación de la Edad\n",
        "\n",
        "4. Determinar el intervalo en el cual se encuentra la variación de la Altura\n",
        "\n",
        "5. Determinar el intervalo en el cual se encuentra la variación del Peso de las Personas"
      ],
      "metadata": {
        "id": "4_-n8UvJTb-p"
      }
    },
    {
      "cell_type": "code",
      "source": [
        "#Intervalos de variación de Edad, Altura y Peso\n",
        "print('Rango de Edad', (XDB['Age'].min(), XDB['Age'].max()))\n",
        "print('Rango de Altura', (XDB['Height'].min(), XDB['Height'].max()))\n",
        "print('Rango de Peso', (XDB['Weight'].min(), XDB['Weight'].max()))\n"
      ],
      "metadata": {
        "colab": {
          "base_uri": "https://localhost:8080/"
        },
        "collapsed": true,
        "id": "r8VTW8C8InYv",
        "outputId": "d3c1538e-6d66-45e5-8fde-75b6b617d266"
      },
      "execution_count": null,
      "outputs": [
        {
          "output_type": "stream",
          "name": "stdout",
          "text": [
            "Rango de Edad (15, 22)\n",
            "Rango de Altura (51.0, 80.0)\n",
            "Rango de Peso (72.0, 375.0)\n"
          ]
        }
      ]
    },
    {
      "cell_type": "markdown",
      "source": [
        "Evaluar el desempeño del modelo\n",
        "\n",
        "6. ¿Cuál es la exactitud alcanzada por el modelo?\n",
        "\n",
        "7. ¿Cuál es la tasa de error alcanzada por el modelo?\n",
        "\n",
        "8. ¿Cuál es la Sensibilidad alcanzada por el modelo?\n",
        "\n",
        "9. ¿Cuál es la Especificidad alcanzada por el modelo?"
      ],
      "metadata": {
        "id": "uJhgCNuaLtiU"
      }
    },
    {
      "cell_type": "code",
      "source": [
        "from sklearn.metrics import confusion_matrix\n",
        "\n",
        "#Haga un barrido de los datos\n",
        "vdp2=mnb.predict(XD) #Haga el pronóstico para los datos base\n",
        "\n",
        "cm=confusion_matrix(yd,vdp2) #Cree la matriz de confusión\n",
        "print(\"La matriz de confusión es:\\n\",cm)\n",
        "VN=cm[0,0];FP=cm[0,1];FN=cm[1,0];VP=cm[1,1]\n",
        "\n",
        "#Metricas Desempeño\n",
        "Ex=(VP+VN)/(VP+VN+FP+FN) #Exactitud : Comportamiento general urbano\n",
        "print(\"La exactitud del modelo es:\\n\",Ex)\n",
        "\n",
        "TE=(FN+FP)/(VP+VN+FP+FN) #Tasa de Error\n",
        "print(\"El error del modelo es:\\n\",TE)\n",
        "\n",
        "Se=VP/(VP+FN) #Sensibilidad : Comportamiento correcto urbano\n",
        "              #Sobre el total de los urbanos\n",
        "print(\"La sensibilidad del modelo es:\\n\",Se)\n",
        "\n",
        "Sp=VN/(VN+FP) #Especificidad : Comportamiento correcto no urbano\n",
        "              #Sobre el total de los no urbanos (rurales)\n",
        "print(\"La especificidad del modelo es:\\n\",Sp)\n",
        "\n",
        "Ur=VP/(VP+FP) #Precisión : Comportamiento correcto urbano\n",
        "             #Sobre el total del FP + VP pronóstico\n",
        "print(\"La precisión del modelo es:\\n\",Ur)\n",
        "\n",
        "Ru=VN/(VN+FN) #Precisión Negativa : Comportamiento correcto no urbano\n",
        "               #Sobre el total del FN + VN pronóstico\n",
        "print(\"La precisión negativa del modelo es:\\n\",Ru)"
      ],
      "metadata": {
        "colab": {
          "base_uri": "https://localhost:8080/",
          "height": 211
        },
        "id": "VRuSxsljLyJq",
        "outputId": "dc656951-0b5c-4983-cd2e-17f7c0e3e60a"
      },
      "execution_count": null,
      "outputs": [
        {
          "output_type": "error",
          "ename": "NameError",
          "evalue": "name 'mnb' is not defined",
          "traceback": [
            "\u001b[0;31m---------------------------------------------------------------------------\u001b[0m",
            "\u001b[0;31mNameError\u001b[0m                                 Traceback (most recent call last)",
            "\u001b[0;32m<ipython-input-1-a5791e6994f4>\u001b[0m in \u001b[0;36m<cell line: 0>\u001b[0;34m()\u001b[0m\n\u001b[1;32m      2\u001b[0m \u001b[0;34m\u001b[0m\u001b[0m\n\u001b[1;32m      3\u001b[0m \u001b[0;31m#Haga un barrido de los datos\u001b[0m\u001b[0;34m\u001b[0m\u001b[0;34m\u001b[0m\u001b[0m\n\u001b[0;32m----> 4\u001b[0;31m \u001b[0mvdp2\u001b[0m\u001b[0;34m=\u001b[0m\u001b[0mmnb\u001b[0m\u001b[0;34m.\u001b[0m\u001b[0mpredict\u001b[0m\u001b[0;34m(\u001b[0m\u001b[0mXD\u001b[0m\u001b[0;34m)\u001b[0m \u001b[0;31m#Haga el pronóstico para los datos base\u001b[0m\u001b[0;34m\u001b[0m\u001b[0;34m\u001b[0m\u001b[0m\n\u001b[0m\u001b[1;32m      5\u001b[0m \u001b[0;34m\u001b[0m\u001b[0m\n\u001b[1;32m      6\u001b[0m \u001b[0mcm\u001b[0m\u001b[0;34m=\u001b[0m\u001b[0mconfusion_matrix\u001b[0m\u001b[0;34m(\u001b[0m\u001b[0myd\u001b[0m\u001b[0;34m,\u001b[0m\u001b[0mvdp2\u001b[0m\u001b[0;34m)\u001b[0m \u001b[0;31m#Cree la matriz de confusión\u001b[0m\u001b[0;34m\u001b[0m\u001b[0;34m\u001b[0m\u001b[0m\n",
            "\u001b[0;31mNameError\u001b[0m: name 'mnb' is not defined"
          ]
        }
      ]
    },
    {
      "cell_type": "markdown",
      "source": [
        "\n",
        "**Análisis de Resultados**\n",
        " De acuerdo con la base de datos suministrada, se tomaron como referencia para saber si la persona vive en el área urbana o rural las variables socioeconómicas como Edad, Educación de los Padres, Estatura, Peso, Ingresos, Escala de Autoestima y Tamaño de la Familia. La base de datos posee un total de 12686 datos, divididos en 79,1% datos de personas que viven en el área urbana y un total de 20,8% de personas que viven en el área rural. De manera general, el modelo alcanzó una exactitud cercana al 80% en promedio (79,1%), lo que demuestra un comportamiento muy aceptable frente a las personas que viven en el área urbana. Sin embargo, es relevante destacar, que el modelo tuvo una especificidad muy baja (0,024%), lo que muestra un mal comportamiento frente a las personas que viven en la zona rural. No obstante, al analizar el índice de precisión, el cual alcanzó un valor cercano al 80% en promedio (79%), muestra que a pesar de todo el modelo tiene un buen criterio frente a la toma de decisiones en las personas que viven en el área urbana. Por lo que a modo general, se puede decir que tiene el modelo tiene un alto desempeño en la identificación de áreas urbanas además, de tener una sensibilidad demasiada alta del casi 100% lo que beneficia al modelo."
      ],
      "metadata": {
        "id": "u_tDbsNCQUw3"
      }
    }
  ]
}